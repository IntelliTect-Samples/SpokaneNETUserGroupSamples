{
 "cells": [
  {
   "cell_type": "markdown",
   "metadata": {},
   "source": [
    "# Welcome Spokane .NET User Group!"
   ]
  },
  {
   "cell_type": "code",
   "execution_count": null,
   "metadata": {},
   "outputs": [
    {
     "data": {
      "application/x.notebook.error-traceback": {
       "ename": "Error",
       "evalue": "(1,4): error CS7010: Quoted file name expected",
       "traceback": []
      }
     },
     "output_type": "unknown"
    }
   ],
   "source": [
    "#r System.CommandLine"
   ]
  },
  {
   "cell_type": "code",
   "execution_count": null,
   "metadata": {},
   "outputs": [],
   "source": [
    "using System.CommandLine;\r\n",
    "using System.CommandLine.Builder;\r\n",
    "using System.CommandLine.Parsing;\r\n",
    "using System.CommandLine.Invocation;\r\n",
    "using System.CommandLine.IO;\r\n",
    "using System.IO;\r\n",
    "\r\n",
    "public enum OutputType\r\n",
    "{\r\n",
    "    Unknown,\r\n",
    "    Json,\r\n",
    "    Csv,\r\n",
    "    Yaml\r\n",
    "}\r\n",
    "\r\n",
    "var rootCommand = new Command(\"fc\")\r\n",
    "{\r\n",
    "    new Option<FileInfo>(\"--input-file\", \"The file to convert\"),\r\n",
    "    new Option<DirectoryInfo>(\"--output-directory\", \"The output directory to covert files into.\"),\r\n",
    "    new Option<OutputType>(\"--output-type\", () => OutputType.Yaml, \"The conversion type.\")\r\n",
    "};\r\n",
    "rootCommand.Handler = CommandHandler.Create<FileInfo, DirectoryInfo, OutputType, IConsole>(Handler);\r\n",
    "\r\n",
    "var builder = new CommandLineBuilder();\r\n",
    "builder.UseDefaults();\r\n",
    "builder.AddCommand(rootCommand);\r\n",
    "Parser parser = builder.Build();\r\n",
    "\r\n",
    "static void Handler(FileInfo inputFile, DirectoryInfo outputDirectory, OutputType outputType, IConsole console)\r\n",
    "{\r\n",
    "    console.Out.Write(\"Invoked Handler\");\r\n",
    "    console.Out.Write($\"  Input File: {inputFile?.FullName}\");\r\n",
    "    console.Out.Write($\"  Ouput Directory: {outputDirectory?.FullName}\");\r\n",
    "    console.Out.Write($\"  Output Type: {outputType}\");\r\n",
    "}\r\n"
   ]
  },
  {
   "cell_type": "code",
   "execution_count": null,
   "metadata": {},
   "outputs": [
    {
     "data": {
      "text/plain": ""
     },
     "output_type": "unknown"
    },
    {
     "data": {
      "text/plain": "Usage:"
     },
     "output_type": "unknown"
    },
    {
     "data": {
      "text/plain": "\r\n"
     },
     "output_type": "unknown"
    },
    {
     "data": {
      "text/plain": "  "
     },
     "output_type": "unknown"
    },
    {
     "data": {
      "text/plain": "Microsoft.DotNet.Interactive.App fc [options]"
     },
     "output_type": "unknown"
    },
    {
     "data": {
      "text/plain": "\r\n"
     },
     "output_type": "unknown"
    },
    {
     "data": {
      "text/plain": "\r\n"
     },
     "output_type": "unknown"
    },
    {
     "data": {
      "text/plain": ""
     },
     "output_type": "unknown"
    },
    {
     "data": {
      "text/plain": "Options:"
     },
     "output_type": "unknown"
    },
    {
     "data": {
      "text/plain": "\r\n"
     },
     "output_type": "unknown"
    },
    {
     "data": {
      "text/plain": "  "
     },
     "output_type": "unknown"
    },
    {
     "data": {
      "text/plain": ""
     },
     "output_type": "unknown"
    },
    {
     "data": {
      "text/plain": "--input-file <input-file>"
     },
     "output_type": "unknown"
    },
    {
     "data": {
      "text/plain": "                "
     },
     "output_type": "unknown"
    },
    {
     "data": {
      "text/plain": "The file to convert"
     },
     "output_type": "unknown"
    },
    {
     "data": {
      "text/plain": "\r\n"
     },
     "output_type": "unknown"
    },
    {
     "data": {
      "text/plain": "  "
     },
     "output_type": "unknown"
    },
    {
     "data": {
      "text/plain": ""
     },
     "output_type": "unknown"
    },
    {
     "data": {
      "text/plain": "--output-directory <output-directory>"
     },
     "output_type": "unknown"
    },
    {
     "data": {
      "text/plain": "    "
     },
     "output_type": "unknown"
    },
    {
     "data": {
      "text/plain": "The output directory to covert files into."
     },
     "output_type": "unknown"
    },
    {
     "data": {
      "text/plain": "\r\n"
     },
     "output_type": "unknown"
    },
    {
     "data": {
      "text/plain": "  "
     },
     "output_type": "unknown"
    },
    {
     "data": {
      "text/plain": ""
     },
     "output_type": "unknown"
    },
    {
     "data": {
      "text/plain": "--output-type <Csv|Json|Unknown|Yaml>"
     },
     "output_type": "unknown"
    },
    {
     "data": {
      "text/plain": "    "
     },
     "output_type": "unknown"
    },
    {
     "data": {
      "text/plain": "The conversion type. [default: Yaml]"
     },
     "output_type": "unknown"
    },
    {
     "data": {
      "text/plain": "\r\n"
     },
     "output_type": "unknown"
    },
    {
     "data": {
      "text/plain": "  "
     },
     "output_type": "unknown"
    },
    {
     "data": {
      "text/plain": ""
     },
     "output_type": "unknown"
    },
    {
     "data": {
      "text/plain": "-?, -h, --help"
     },
     "output_type": "unknown"
    },
    {
     "data": {
      "text/plain": "                           "
     },
     "output_type": "unknown"
    },
    {
     "data": {
      "text/plain": "Show help and usage information"
     },
     "output_type": "unknown"
    },
    {
     "data": {
      "text/plain": "\r\n"
     },
     "output_type": "unknown"
    },
    {
     "data": {
      "text/plain": "\r\n"
     },
     "output_type": "unknown"
    }
   ],
   "source": [
    "parser.Invoke(\"fc --help\");\r\n",
    "parser.Invoke(\"fc --output-type Csv\");\r\n",
    "parser.Invoke(\"fc --input-file ./file1 --output-directory ./output  --output-type Csv\");"
   ]
  },
  {
   "cell_type": "code",
   "execution_count": null,
   "metadata": {},
   "outputs": [],
   "source": [
    "var rootCommand = new Command(\"fc\")\r\n",
    "{\r\n",
    "    new Option<FileInfo>(new[] {\"--input-file\", \"-i\"}, \"The input file\"),\r\n",
    "    new Option<DirectoryInfo>(\"--output-directory\", \"-o\"),\r\n",
    "    new Option<OutputType>(\"--output-type\", () => OutputType.Yaml)\r\n",
    "};\r\n",
    "rootCommand.Handler = CommandHandler.Create<FileInfo, DirectoryInfo, OutputType, IConsole>(Handler);\r\n"
   ]
  }
 ],
 "metadata": {
  "kernelspec": {
   "display_name": ".NET (C#)",
   "language": "C#",
   "name": ".net-csharp"
  },
  "language_info": {
   "name": "dotnet-interactive.csharp"
  },
  "orig_nbformat": 2
 },
 "nbformat": 4,
 "nbformat_minor": 2
}