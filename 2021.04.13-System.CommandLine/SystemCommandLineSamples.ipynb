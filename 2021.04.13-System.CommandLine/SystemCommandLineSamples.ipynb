{
  "cells": [
    {
      "cell_type": "markdown",
      "metadata": {},
      "source": [
        "# Welcome Spokane .NET User Group!"
      ]
    },
    {
      "cell_type": "code",
      "execution_count": null,
      "metadata": {},
      "outputs": [],
      "source": [
        "#r \"System.CommandLine\"\r\n",
        "\r\n",
        "using System.CommandLine;\r\n",
        "using System.CommandLine.Builder;\r\n",
        "using System.CommandLine.Parsing;\r\n",
        "using System.CommandLine.Invocation;\r\n",
        "using System.CommandLine.IO;\r\n",
        "using System.IO;\r\n",
        "\r\n",
        "public enum OutputType\r\n",
        "{\r\n",
        "    Unknown,\r\n",
        "    Json,\r\n",
        "    Csv,\r\n",
        "    Yaml\r\n",
        "}"
      ]
    },
    {
      "cell_type": "code",
      "execution_count": null,
      "metadata": {},
      "outputs": [],
      "source": [
        "var rootCommand = new RootCommand()\r\n",
        "{\r\n",
        "    new Option<FileInfo>(\"--input-file\", \"The file to convert\"),\r\n",
        "    new Option<DirectoryInfo>(\"--output-directory\", \"The output directory to covert files into.\"),\r\n",
        "    new Option<OutputType>(\"--output-type\", () => OutputType.Yaml, \"The conversion type.\")\r\n",
        "};\r\n",
        "rootCommand.Handler = CommandHandler.Create<FileInfo, DirectoryInfo, OutputType, IConsole>(Handler);\r\n",
        "\r\n",
        "static void Handler(FileInfo inputFile, DirectoryInfo outputDirectory, OutputType outputType, IConsole console)\r\n",
        "{\r\n",
        "    console.Out.Write(\"Invoked Handler\");\r\n",
        "    console.Out.Write($\"  Input File: {inputFile?.FullName}\");\r\n",
        "    console.Out.Write($\"  Ouput Directory: {outputDirectory?.FullName}\");\r\n",
        "    console.Out.Write($\"  Output Type: {outputType}\");\r\n",
        "}\r\n",
        "\r\n",
        "rootCommand.Invoke(\"--help\");\r\n",
        "rootCommand.Invoke(\"--output-type Csv\");\r\n",
        "rootCommand.Invoke(\"--input-file ./file1 --output-directory ./output  --output-type Csv\");"
      ]
    },
    {
      "cell_type": "code",
      "execution_count": null,
      "metadata": {},
      "outputs": [],
      "source": [
        "//Aliases\n",
        "var rootCommand = new RootCommand()\n",
        "{\n",
        "    new Option<FileInfo>(new[] {\"--input-file\", \"-i\"}, \"The file to convert\"),\n",
        "    new Option<DirectoryInfo>(new[] {\"--output-directory\", \"-o\"}, \"The output directory to covert files into.\"),\n",
        "    new Option<OutputType>(new[] {\"--output-type\", \"-t\"}, () => OutputType.Yaml, \"The conversion type.\")\n",
        "};\n",
        "rootCommand.Handler = CommandHandler.Create<FileInfo, DirectoryInfo, OutputType, IConsole>(Handler);\n",
        "\n",
        "rootCommand.Invoke(\"--help\");"
      ]
    },
    {
      "cell_type": "code",
      "execution_count": null,
      "metadata": {},
      "outputs": [
        {
          "data": {
            "text/plain": "Invoked Model Binding Handler: ConversionOptions { InputFile = file, OutputDirectory = output, OutputType = Csv }"
          },
          "output_type": "unknown"
        }
      ],
      "source": [
        "//Model binding\r\n",
        "// public class ConversionOptions\r\n",
        "// {\r\n",
        "//     public FileInfo InputFile { get; set; }\r\n",
        "//     public DirectoryInfo OutputDirectory { get; set; }\r\n",
        "//     public OutputType OutputType { get; set; }\r\n",
        "// }\r\n",
        "\r\n",
        "public record ConversionOptions (\r\n",
        "    FileInfo InputFile,\r\n",
        "    DirectoryInfo OutputDirectory,\r\n",
        "    OutputType OutputType)\r\n",
        "{ }\r\n",
        "\r\n",
        "var rootCommand = new RootCommand()\r\n",
        "{\r\n",
        "    new Option<FileInfo>(new[] {\"--input-file\", \"-i\"}, \"The file to convert\"),\r\n",
        "    new Option<DirectoryInfo>(new[] {\"--output-directory\", \"-o\"}, \"The output directory to covert files into.\"),\r\n",
        "    new Option<OutputType>(new[] {\"--output-type\", \"-t\"}, () => OutputType.Yaml, \"The conversion type.\")\r\n",
        "};\r\n",
        "rootCommand.Handler = CommandHandler.Create<ConversionOptions, IConsole>(Handler);\r\n",
        "\r\n",
        "static void Handler(ConversionOptions options, IConsole console)\r\n",
        "    => console.Out.Write($\"Invoked Model Binding Handler: {options}\");\r\n",
        "\r\n",
        "rootCommand.Invoke(\"-i file -o output -t Csv\");"
      ]
    },
    {
      "cell_type": "code",
      "execution_count": null,
      "metadata": {},
      "outputs": [
        {
          "data": {
            "text/plain": "Invoked Handler"
          },
          "output_type": "unknown"
        },
        {
          "data": {
            "text/plain": "  Num Spaces: 3"
          },
          "output_type": "unknown"
        }
      ],
      "source": [
        "// Parse delegates\r\n",
        "var rootCommand = new RootCommand()\r\n",
        "{\r\n",
        "    new Option<int>(new[] {\"--num-spaces\"}, (ArgumentResult argumentResult) => {\r\n",
        "        string token = argumentResult.Tokens.FirstOrDefault()?.Value;\r\n",
        "        return token switch {\r\n",
        "            \"one\" => 1,\r\n",
        "            \"two\" => 2,\r\n",
        "            \"three\" => 3,\r\n",
        "            _ => 4\r\n",
        "        };\r\n",
        "    }),\r\n",
        "};\r\n",
        "rootCommand.Handler = CommandHandler.Create<int, IConsole>(Handler);\r\n",
        "\r\n",
        "static void Handler(int numSpaces, IConsole console)\r\n",
        "  => console.Out.Write($\"Num Spaces: {numSpaces}\");\r\n",
        "\r\n",
        "rootCommand.Invoke(\"--num-spaces three\");"
      ]
    }
  ],
  "metadata": {
    "kernelspec": {
      "display_name": ".NET (C#)",
      "language": "C#",
      "name": ".net-csharp"
    },
    "language_info": {
      "file_extension": ".cs",
      "mimetype": "text/x-csharp",
      "name": "csharp",
      "pygments_lexer": "csharp",
      "version": "8.0"
    }
  },
  "nbformat": 4,
  "nbformat_minor": 4
}