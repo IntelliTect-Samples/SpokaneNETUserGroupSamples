{
 "cells": [
  {
   "cell_type": "markdown",
   "metadata": {},
   "source": [
    "# Welcome Spokane .NET User Group!"
   ]
  },
  {
   "cell_type": "code",
   "execution_count": null,
   "metadata": {},
   "outputs": [],
   "source": [
    "#r \"System.CommandLine\"\r\n",
    "\r\n",
    "using System.CommandLine;\r\n",
    "using System.CommandLine.Builder;\r\n",
    "using System.CommandLine.Parsing;\r\n",
    "using System.CommandLine.Invocation;\r\n",
    "using System.CommandLine.IO;\r\n",
    "using System.IO;"
   ]
  },
  {
   "cell_type": "code",
   "execution_count": null,
   "metadata": {},
   "outputs": [],
   "source": [
    "public enum OutputType\r\n",
    "{\r\n",
    "    Unknown,\r\n",
    "    Json,\r\n",
    "    Csv,\r\n",
    "    Yaml\r\n",
    "}\r\n",
    "\r\n",
    "var rootCommand = new Command(\"fc\")\r\n",
    "{\r\n",
    "    new Option<FileInfo>(\"--input-file\", \"The file to convert\"),\r\n",
    "    new Option<DirectoryInfo>(\"--output-directory\", \"The output directory to covert files into.\"),\r\n",
    "    new Option<OutputType>(\"--output-type\", () => OutputType.Yaml, \"The conversion type.\")\r\n",
    "};\r\n",
    "rootCommand.Handler = CommandHandler.Create<FileInfo, DirectoryInfo, OutputType, IConsole>(Handler);\r\n",
    "\r\n",
    "var builder = new CommandLineBuilder();\r\n",
    "builder.UseDefaults();\r\n",
    "builder.AddCommand(rootCommand);\r\n",
    "Parser parser = builder.Build();\r\n",
    "\r\n",
    "static void Handler(FileInfo inputFile, DirectoryInfo outputDirectory, OutputType outputType, IConsole console)\r\n",
    "{\r\n",
    "    console.Out.Write(\"Invoked Handler\");\r\n",
    "    console.Out.Write($\"  Input File: {inputFile?.FullName}\");\r\n",
    "    console.Out.Write($\"  Ouput Directory: {outputDirectory?.FullName}\");\r\n",
    "    console.Out.Write($\"  Output Type: {outputType}\");\r\n",
    "}\r\n",
    "\r\n",
    "parser.Invoke(\"fc --help\");\r\n",
    "parser.Invoke(\"fc --output-type Csv\");\r\n",
    "parser.Invoke(\"fc --input-file ./file1 --output-directory ./output  --output-type Csv\");"
   ]
  },
  {
   "cell_type": "code",
   "execution_count": null,
   "metadata": {},
   "outputs": [],
   "source": [
    "//Aliases\r\n",
    "var rootCommand = new Command(\"fc\")\r\n",
    "{\r\n",
    "    new Option<FileInfo>(new[] {\"--input-file\", \"-i\"}, \"The file to convert\"),\r\n",
    "    new Option<DirectoryInfo>(new[] {\"--output-directory\", \"-o\"}, \"The output directory to covert files into.\"),\r\n",
    "    new Option<OutputType>(new[] {\"--output-type\", \"-t\"}, () => OutputType.Yaml, \"The conversion type.\")\r\n",
    "};\r\n",
    "rootCommand.Handler = CommandHandler.Create<FileInfo, DirectoryInfo, OutputType, IConsole>(Handler);\r\n",
    "\r\n",
    "var builder = new CommandLineBuilder();\r\n",
    "builder.UseDefaults();\r\n",
    "builder.AddCommand(rootCommand);\r\n",
    "Parser parser = builder.Build();\r\n",
    "\r\n",
    "parser.Invoke(\"fc --help\");"
   ]
  },
  {
   "cell_type": "code",
   "execution_count": null,
   "metadata": {},
   "outputs": [],
   "source": [
    "//Model binding\r\n",
    "public class ConversionOptions\r\n",
    "{\r\n",
    "    public FileInfo InputFile { get; set; }\r\n",
    "    public DirectoryInfo OutputDirectory { get; set; }\r\n",
    "    public OutputType OutputType { get; set; }\r\n",
    "}\r\n",
    "\r\n",
    "var rootCommand = new Command(\"fc\")\r\n",
    "{\r\n",
    "    new Option<FileInfo>(new[] {\"--input-file\", \"-i\"}, \"The file to convert\"),\r\n",
    "    new Option<DirectoryInfo>(new[] {\"--output-directory\", \"-o\"}, \"The output directory to covert files into.\"),\r\n",
    "    new Option<OutputType>(new[] {\"--output-type\", \"-t\"}, () => OutputType.Yaml, \"The conversion type.\")\r\n",
    "};\r\n",
    "rootCommand.Handler = CommandHandler.Create<ConversionOptions, IConsole>(Handler);\r\n",
    "\r\n",
    "var builder = new CommandLineBuilder();\r\n",
    "builder.UseDefaults();\r\n",
    "builder.AddCommand(rootCommand);\r\n",
    "Parser parser = builder.Build();\r\n",
    "\r\n",
    "static void Handler(ConversionOptions options, IConsole console)\r\n",
    "{\r\n",
    "    console.Out.Write(\"Invoked Handler\");\r\n",
    "    console.Out.Write($\"  Input File: {options.InputFile?.FullName}\");\r\n",
    "    console.Out.Write($\"  Ouput Directory: {options.OutputDirectory?.FullName}\");\r\n",
    "    console.Out.Write($\"  Output Type: {options.OutputType}\");\r\n",
    "}\r\n",
    "\r\n",
    "parser.Invoke(\"fc -i file -o output -t Csv\");"
   ]
  }
 ],
 "metadata": {
  "kernelspec": {
   "display_name": ".NET (C#)",
   "language": "C#",
   "name": ".net-csharp"
  },
  "language_info": {
   "name": "dotnet-interactive.csharp"
  },
  "orig_nbformat": 2
 },
 "nbformat": 4,
 "nbformat_minor": 2
}